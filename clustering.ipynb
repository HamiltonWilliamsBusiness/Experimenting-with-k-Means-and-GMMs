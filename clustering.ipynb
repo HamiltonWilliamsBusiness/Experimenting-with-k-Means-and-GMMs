{
 "cells": [
  {
   "cell_type": "markdown",
   "metadata": {},
   "source": [
    "# Step 1 Create A Dataset For Clustering"
   ]
  },
  {
   "cell_type": "code",
   "execution_count": 9,
   "metadata": {},
   "outputs": [
    {
     "name": "stdout",
     "output_type": "stream",
     "text": [
      "(1000, 2)\n"
     ]
    },
    {
     "data": {
      "text/plain": [
       "array([2, 0, 2, 2, 2, 1, 0, 0, 1, 0, 1, 2, 2, 0, 0, 1, 2, 1, 0, 0, 2, 1,\n",
       "       2, 0, 0, 0, 0, 0, 1, 1, 2, 2, 2, 0, 2, 1, 1, 2, 1, 1, 1, 1, 0, 1,\n",
       "       1, 1, 1, 2, 0, 1, 0, 0, 1, 0, 0, 1, 1, 2, 2, 1, 2, 2, 2, 2, 0, 0,\n",
       "       1, 1, 2, 2, 0, 0, 0, 2, 0, 2, 1, 0, 2, 2, 2, 0, 0, 0, 0, 0, 0, 1,\n",
       "       0, 1, 0, 1, 1, 2, 1, 2, 0, 1, 0, 2, 0, 2, 2, 1, 0, 0, 2, 0, 1, 1,\n",
       "       0, 0, 0, 0, 2, 2, 0, 2, 0, 1, 0, 1, 2, 0, 0, 1, 2, 2, 2, 0, 0, 2,\n",
       "       0, 0, 2, 0, 0, 1, 2, 2, 0, 0, 0, 2, 2, 2, 0, 0, 2, 0, 0, 2, 0, 0,\n",
       "       0, 2, 0, 1, 1, 2, 0, 0, 0, 0, 0, 0, 2, 0, 1, 1, 1, 2, 2, 2, 2, 0,\n",
       "       1, 0, 0, 2, 0, 0, 0, 1, 1, 0, 2, 1, 2, 0, 1, 2, 1, 2, 2, 0, 0, 2,\n",
       "       1, 1, 0, 2, 1, 0, 0, 2, 2, 2, 1, 0, 2, 0, 0, 0, 1, 2, 0, 2, 0, 0,\n",
       "       2, 0, 2, 2, 0, 1, 0, 0, 0, 2, 2, 1, 2, 1, 0, 1, 0, 1, 2, 2, 2, 2,\n",
       "       2, 2, 0, 2, 2, 0, 1, 1, 1, 1, 2, 2, 1, 0, 1, 0, 2, 1, 0, 1, 1, 1,\n",
       "       0, 1, 2, 2, 2, 0, 2, 1, 2, 2, 2, 2, 0, 0, 2, 2, 1, 0, 1, 1, 1, 0,\n",
       "       2, 2, 1, 2, 0, 2, 1, 1, 1, 0, 0, 1, 0, 1, 1, 1, 1, 2, 0, 0, 1, 0,\n",
       "       0, 0, 2, 0, 2, 0, 2, 1, 0, 1, 0, 1, 0, 1, 2, 0, 1, 2, 1, 2, 0, 1,\n",
       "       1, 2, 2, 2, 0, 2, 0, 2, 0, 1, 0, 1, 1, 2, 1, 1, 0, 1, 0, 1, 0, 0,\n",
       "       2, 2, 1, 2, 0, 0, 0, 0, 1, 2, 1, 1, 2, 2, 0, 2, 0, 1, 1, 1, 1, 0,\n",
       "       2, 1, 2, 0, 2, 2, 0, 2, 2, 1, 1, 2, 2, 1, 2, 1, 2, 2, 1, 0, 0, 2,\n",
       "       1, 2, 1, 1, 1, 0, 0, 0, 1, 2, 0, 1, 1, 2, 0, 0, 2, 0, 2, 0, 1, 1,\n",
       "       1, 2, 0, 2, 1, 0, 0, 1, 2, 1, 1, 2, 0, 2, 0, 2, 2, 1, 2, 2, 1, 1,\n",
       "       0, 1, 0, 0, 0, 2, 1, 0, 1, 2, 2, 1, 0, 1, 0, 0, 1, 0, 2, 1, 2, 2,\n",
       "       2, 1, 0, 2, 0, 0, 0, 0, 0, 0, 1, 0, 1, 0, 0, 0, 2, 2, 1, 2, 2, 2,\n",
       "       1, 1, 1, 1, 2, 0, 1, 0, 2, 0, 1, 1, 1, 2, 0, 2, 0, 2, 2, 1, 1, 1,\n",
       "       1, 0, 2, 0, 1, 2, 1, 1, 1, 2, 1, 2, 0, 2, 0, 0, 2, 1, 0, 1, 0, 1,\n",
       "       1, 2, 1, 2, 1, 2, 2, 0, 2, 1, 1, 0, 0, 0, 1, 0, 2, 2, 2, 0, 1, 0,\n",
       "       2, 1, 2, 0, 2, 1, 0, 0, 0, 2, 1, 1, 0, 0, 1, 1, 1, 1, 2, 2, 0, 1,\n",
       "       2, 1, 1, 1, 0, 1, 0, 0, 1, 2, 2, 1, 0, 0, 0, 2, 1, 0, 2, 0, 2, 0,\n",
       "       1, 2, 2, 2, 2, 2, 1, 1, 0, 1, 0, 2, 2, 0, 1, 0, 2, 2, 0, 1, 1, 1,\n",
       "       0, 0, 0, 1, 2, 2, 1, 2, 2, 2, 1, 0, 2, 2, 2, 2, 2, 0, 0, 1, 1, 1,\n",
       "       2, 1, 1, 0, 0, 0, 0, 0, 2, 2, 2, 0, 1, 0, 2, 2, 0, 1, 2, 0, 2, 2,\n",
       "       2, 0, 1, 1, 1, 0, 1, 1, 2, 0, 2, 1, 1, 0, 1, 2, 1, 2, 0, 1, 2, 0,\n",
       "       0, 0, 1, 1, 0, 2, 2, 2, 0, 2, 2, 1, 1, 0, 0, 1, 2, 1, 0, 0, 2, 1,\n",
       "       2, 0, 1, 2, 1, 2, 0, 0, 0, 0, 1, 1, 2, 0, 1, 0, 2, 1, 1, 2, 1, 2,\n",
       "       1, 0, 2, 0, 1, 1, 0, 0, 2, 0, 0, 0, 1, 1, 0, 0, 2, 1, 1, 2, 2, 1,\n",
       "       2, 1, 0, 0, 1, 1, 1, 0, 1, 1, 1, 0, 1, 0, 2, 2, 1, 1, 2, 2, 0, 1,\n",
       "       1, 1, 2, 0, 1, 0, 1, 0, 2, 2, 1, 1, 0, 2, 2, 0, 1, 2, 2, 0, 1, 2,\n",
       "       0, 2, 2, 0, 2, 0, 2, 2, 2, 1, 1, 1, 1, 2, 2, 0, 0, 2, 0, 0, 0, 1,\n",
       "       0, 1, 2, 0, 1, 2, 0, 2, 0, 2, 1, 2, 1, 0, 1, 0, 0, 0, 1, 2, 2, 1,\n",
       "       1, 0, 1, 1, 1, 1, 1, 1, 1, 2, 1, 2, 1, 2, 2, 1, 0, 1, 2, 0, 2, 0,\n",
       "       2, 0, 2, 1, 2, 0, 2, 0, 0, 2, 2, 1, 2, 1, 1, 1, 2, 2, 1, 1, 0, 0,\n",
       "       1, 1, 2, 0, 0, 1, 2, 1, 0, 2, 1, 2, 2, 0, 0, 0, 0, 1, 2, 0, 0, 1,\n",
       "       1, 0, 1, 2, 2, 0, 2, 0, 1, 2, 1, 0, 0, 2, 1, 0, 2, 1, 0, 1, 0, 0,\n",
       "       0, 0, 1, 0, 2, 1, 2, 0, 1, 2, 1, 1, 1, 1, 1, 0, 0, 2, 2, 2, 1, 1,\n",
       "       1, 0, 2, 1, 0, 2, 2, 2, 1, 0, 1, 2, 2, 2, 2, 0, 2, 1, 0, 2, 1, 1,\n",
       "       1, 1, 1, 1, 0, 1, 1, 1, 1, 2, 1, 2, 2, 2, 2, 2, 2, 1, 2, 0, 2, 1,\n",
       "       1, 2, 2, 2, 2, 1, 2, 1, 2, 1])"
      ]
     },
     "execution_count": 9,
     "metadata": {},
     "output_type": "execute_result"
    }
   ],
   "source": [
    "from sklearn.datasets import make_blobs\n",
    "X, y = make_blobs(n_samples=1000, centers=3, n_features=2,\n",
    "                  random_state=0)\n",
    "print(X.shape)\n",
    "y"
   ]
  },
  {
   "cell_type": "markdown",
   "metadata": {},
   "source": [
    "# Step 2 Run K-Means And GMMs To Cluster The Data"
   ]
  },
  {
   "cell_type": "code",
   "execution_count": 42,
   "metadata": {},
   "outputs": [
    {
     "name": "stdout",
     "output_type": "stream",
     "text": [
      "GMM Labels: [1 1 1 1 1 0 1 1 0 1 0 1 1 1 1 0 1 0 1 1 1 0 1 1 1 1 1 1 0 0 1 1 1 1 1 0 0\n",
      " 1 0 0 0 0 1 0 0 0 0 1 1 0 1 1 0 1 1 0 0 1 1 0 1 1 1 1 1 1 0 0 1 1 1 1 1 1\n",
      " 1 1 0 1 1 1 1 1 1 1 1 1 1 0 1 0 1 0 0 1 0 1 1 0 1 1 1 1 1 0 1 1 1 1 0 0 1\n",
      " 1 1 0 1 1 1 1 1 0 1 0 1 1 1 0 1 1 1 1 1 1 1 1 1 1 1 0 1 1 1 1 1 1 1 1 1 1\n",
      " 1 1 1 1 1 1 1 1 1 0 0 1 1 1 1 1 0 1 1 1 0 0 0 1 1 1 1 1 0 1 1 1 1 1 1 0 0\n",
      " 1 0 0 1 1 1 1 0 1 1 1 1 0 0 0 1 1 0 0 1 1 1 1 0 1 1 1 1 1 0 1 1 1 1 1 1 0\n",
      " 1 1 1 0 1 1 1 1 1 1 1 0 1 0 1 0 1 1 1 1 1 1 1 1 1 1 0 0 1 0 1 1 0 1 0 1 1\n",
      " 0 1 0 0 0 1 0 1 1 1 1 1 0 1 0 1 1 1 0 1 1 0 1 0 0 1 1 1 1 0 1 1 1 0 0 0 1\n",
      " 1 0 1 0 0 0 0 1 1 1 0 1 1 1 1 1 1 1 1 0 1 0 1 0 1 0 1 1 0 1 0 1 1 0 0 1 1\n",
      " 1 1 1 1 1 1 0 1 0 0 1 0 0 1 0 1 0 1 1 1 1 0 1 1 1 1 0 0 1 0 0 1 1 1 1 1 0\n",
      " 0 0 0 1 1 0 1 1 1 1 1 1 1 0 1 1 1 0 1 0 1 1 0 1 1 1 0 1 0 0 0 1 1 1 0 1 1\n",
      " 0 0 1 1 1 1 1 1 1 1 1 0 1 1 1 0 1 1 0 1 0 0 1 1 1 1 1 1 0 1 1 1 0 1 0 0 1\n",
      " 1 1 1 1 0 1 1 0 1 1 1 1 0 1 1 0 1 1 1 1 1 1 1 1 1 1 1 0 0 1 0 1 1 1 1 1 0\n",
      " 1 1 1 0 0 0 0 1 1 0 1 1 1 0 0 0 0 0 1 1 1 1 0 0 0 0 1 1 1 1 1 0 0 0 1 0 1\n",
      " 1 1 1 1 1 1 1 0 1 0 0 1 0 1 0 1 1 1 1 0 0 1 1 1 0 1 1 1 1 1 0 1 1 0 1 1 1\n",
      " 0 1 1 1 1 0 0 1 1 0 0 0 0 1 1 1 0 1 1 0 0 1 0 1 1 0 1 1 0 1 1 1 1 0 1 1 1\n",
      " 1 1 0 1 1 1 1 1 0 0 1 0 1 1 1 1 0 1 1 1 1 0 0 0 1 1 1 0 1 1 0 0 1 1 0 1 1\n",
      " 1 1 1 1 1 1 0 0 0 1 0 0 1 1 1 1 1 1 1 1 1 0 1 1 1 1 0 1 1 1 1 1 1 0 0 0 1\n",
      " 0 0 1 1 1 0 0 1 0 1 0 1 1 0 1 1 1 1 0 0 1 1 1 1 1 1 1 0 0 1 0 0 1 1 1 1 1\n",
      " 0 1 1 0 1 0 1 1 1 1 1 0 0 1 1 0 1 1 0 0 1 0 1 0 1 1 1 1 0 1 1 1 1 1 1 0 0\n",
      " 1 1 1 0 0 1 1 0 1 0 1 1 0 0 0 1 0 0 0 1 0 1 1 1 0 0 1 1 1 0 0 0 1 0 1 1 0\n",
      " 1 1 1 0 0 1 1 1 1 0 1 1 1 0 1 1 1 1 1 1 1 1 1 1 0 0 0 0 1 1 1 1 1 1 1 1 0\n",
      " 1 0 1 1 0 1 1 1 1 1 0 1 0 1 0 1 1 1 0 1 1 0 0 1 0 0 0 0 0 0 0 1 0 1 0 1 1\n",
      " 0 1 0 1 1 1 1 1 1 1 1 1 1 1 1 1 1 1 0 1 0 0 0 1 1 0 0 1 1 0 0 1 1 1 0 1 0\n",
      " 1 1 0 1 1 1 1 1 1 0 1 1 1 0 0 1 0 1 1 1 1 1 0 1 0 1 1 1 0 1 1 0 1 0 1 1 1\n",
      " 1 0 1 1 0 1 1 0 1 0 1 0 0 0 1 1 1 1 1 0 0 1 1 1 0 1 1 1 1 0 1 0 1 1 1 1 1\n",
      " 1 0 1 1 0 0 0 0 0 0 1 0 0 0 0 1 0 1 1 1 1 1 1 0 1 1 1 0 0 1 1 1 1 0 1 0 1\n",
      " 0]\n",
      "GMM Means: [[ 2.1205433   0.85987691]\n",
      " [-0.3608034   3.62272738]]\n"
     ]
    }
   ],
   "source": [
    "from sklearn.mixture import GaussianMixture\n",
    "gm = GaussianMixture(n_components=2, random_state=0)\n",
    "gm_labels = gm.fit_predict(X)\n",
    "\n",
    "print(\"GMM Labels:\", gm_labels )\n",
    "print(\"GMM Means:\", gm.means_)"
   ]
  },
  {
   "cell_type": "code",
   "execution_count": 41,
   "metadata": {},
   "outputs": [
    {
     "name": "stdout",
     "output_type": "stream",
     "text": [
      "K-Means Labels: [1 1 1 1 1 0 1 1 0 0 0 1 1 1 1 0 1 0 1 1 1 0 1 1 1 1 1 1 0 0 1 1 1 0 1 0 0\n",
      " 1 0 0 0 0 1 0 0 0 0 1 0 0 1 1 0 1 1 0 0 1 1 0 1 1 1 1 1 1 0 0 1 1 1 1 1 1\n",
      " 1 1 0 1 1 1 1 1 1 1 1 1 1 0 1 0 1 0 0 1 0 1 1 0 1 1 1 1 1 0 1 1 1 1 0 0 1\n",
      " 1 1 0 1 1 1 1 1 0 1 0 1 1 1 0 1 1 1 1 1 1 1 1 1 0 1 0 1 1 1 1 1 1 1 1 1 1\n",
      " 1 1 1 1 1 1 1 1 1 0 0 1 1 1 1 1 0 1 1 1 0 0 0 1 1 1 1 1 0 1 1 1 1 1 1 0 0\n",
      " 1 0 0 1 1 1 1 0 1 1 1 1 0 0 0 1 1 0 0 1 1 1 1 0 1 1 1 1 1 0 1 0 1 1 1 1 0\n",
      " 1 1 1 0 1 1 1 1 1 1 1 0 0 0 1 0 1 1 1 1 1 1 1 1 1 1 0 0 0 0 1 1 0 1 0 1 1\n",
      " 0 1 0 0 0 1 0 1 1 1 1 1 0 1 0 1 1 1 0 1 1 0 1 0 0 1 1 1 1 0 1 1 1 0 0 0 1\n",
      " 1 0 0 0 0 0 0 1 1 1 0 1 1 1 1 1 1 1 1 0 1 0 1 0 0 0 1 1 0 1 0 1 1 0 0 1 1\n",
      " 1 1 1 1 1 1 0 1 0 0 1 0 0 1 0 1 0 1 1 1 1 0 1 1 1 1 0 0 1 0 0 1 1 1 1 1 0\n",
      " 0 0 0 1 1 0 1 1 1 1 1 1 1 0 0 1 1 0 1 0 1 1 0 1 1 1 0 1 0 0 0 1 1 1 0 1 1\n",
      " 0 0 1 1 1 1 1 1 1 1 1 0 1 1 1 0 1 0 0 1 0 0 1 1 1 1 1 1 0 1 1 0 0 1 0 0 1\n",
      " 1 1 0 1 0 1 1 0 1 0 1 1 0 1 1 0 1 1 1 1 1 1 1 1 1 1 1 0 0 1 0 0 1 1 1 1 0\n",
      " 1 1 1 0 0 0 0 1 1 0 1 1 1 0 0 0 0 0 1 1 1 1 0 0 0 0 1 1 1 0 1 0 0 0 1 0 1\n",
      " 1 1 1 1 1 0 1 0 1 0 0 1 0 1 0 1 1 1 1 0 0 1 1 1 0 1 1 1 1 1 0 1 1 0 1 1 1\n",
      " 0 1 1 1 1 0 0 1 1 0 0 0 0 1 1 1 0 1 1 0 0 1 0 1 1 0 1 1 0 1 0 1 1 0 1 1 1\n",
      " 1 0 0 1 1 1 1 1 0 0 1 0 1 1 1 1 0 1 1 1 1 0 0 0 1 1 1 0 1 1 0 0 1 1 0 1 1\n",
      " 1 1 1 1 1 1 0 0 0 1 0 0 1 1 1 1 1 1 1 1 1 0 1 1 1 1 0 1 1 1 1 1 1 0 0 0 1\n",
      " 0 0 1 1 1 0 0 1 0 1 0 1 1 0 1 1 1 1 0 0 0 1 1 1 0 1 1 0 0 1 0 0 1 1 1 1 1\n",
      " 0 0 1 0 1 0 0 1 1 1 1 0 0 1 1 0 1 1 0 0 1 0 1 0 1 1 1 1 0 1 1 1 1 1 1 0 0\n",
      " 1 1 1 0 0 1 1 0 1 0 1 1 0 0 0 1 0 0 0 1 0 1 1 1 0 0 1 1 1 0 0 0 1 0 0 1 0\n",
      " 1 1 1 0 0 1 1 1 1 0 1 1 1 0 1 1 1 1 1 1 1 1 1 1 0 0 0 0 1 1 1 1 1 1 1 1 0\n",
      " 1 0 1 1 0 0 1 1 1 1 0 1 0 0 0 1 1 1 0 1 1 0 0 1 0 0 0 0 0 0 0 1 0 1 0 1 1\n",
      " 0 1 0 1 1 1 1 1 1 1 0 1 1 1 1 1 1 1 0 1 0 0 0 1 1 0 0 1 1 0 0 1 1 1 0 1 0\n",
      " 1 1 0 1 1 1 1 1 1 0 1 1 1 0 0 1 0 1 1 1 1 1 0 1 0 1 1 1 0 1 1 0 1 0 1 1 1\n",
      " 1 0 0 1 0 1 1 0 1 0 0 0 0 0 1 1 1 1 1 0 0 0 1 1 0 1 1 1 1 0 1 0 1 1 1 1 1\n",
      " 1 0 1 1 0 0 0 0 0 0 1 0 0 0 0 1 0 1 1 1 1 1 1 0 1 1 1 0 0 1 1 1 1 0 1 0 1\n",
      " 0]\n",
      "K-Means Cluster Centers: [[ 2.11431099  0.97339363]\n",
      " [-0.44451298  3.65624366]]\n"
     ]
    }
   ],
   "source": [
    "from sklearn.cluster import KMeans\n",
    "\n",
    "kmeans = KMeans(n_clusters=2, random_state=0)  \n",
    "kmeans_labels = kmeans.fit_predict(X)\n",
    "\n",
    "print(\"K-Means Labels:\", kmeans_labels)\n",
    "print(\"K-Means Cluster Centers:\", kmeans.cluster_centers_)"
   ]
  },
  {
   "cell_type": "markdown",
   "metadata": {},
   "source": [
    "# Step 3 Repeat Step 1 and Step 2 For Different Number Of Clusters"
   ]
  },
  {
   "cell_type": "code",
   "execution_count": 43,
   "metadata": {},
   "outputs": [
    {
     "name": "stdout",
     "output_type": "stream",
     "text": [
      "Silhouette Score For Kmeans 0.4686945393573536\n",
      "Silhouette Score For GMMs 0.47081317767024955\n"
     ]
    }
   ],
   "source": [
    "from sklearn.metrics import silhouette_score\n",
    "\n",
    "print(\"Silhouette Score For Kmeans\", silhouette_score(X, kmeans_labels))\n",
    "print(\"Silhouette Score For GMMs\",silhouette_score(X, gm_labels))"
   ]
  },
  {
   "cell_type": "markdown",
   "metadata": {},
   "source": [
    "## 3 Real Clusters"
   ]
  },
  {
   "cell_type": "code",
   "execution_count": 49,
   "metadata": {},
   "outputs": [
    {
     "name": "stdout",
     "output_type": "stream",
     "text": [
      "Silhouette Score For Kmeans 0.4802083963842474\n",
      "Silhouette Score For GMMs 0.47847313606479147\n"
     ]
    }
   ],
   "source": [
    "from sklearn.datasets import make_blobs\n",
    "X, y = make_blobs(n_samples=1000, centers=3, n_features=2, random_state=0)\n",
    "\n",
    "from sklearn.mixture import GaussianMixture\n",
    "gm = GaussianMixture(n_components=3, random_state=0)\n",
    "gm_labels = gm.fit_predict(X)\n",
    "\n",
    "kmeans = KMeans(n_clusters=3, random_state=0)  \n",
    "kmeans_labels = kmeans.fit_predict(X)\n",
    "\n",
    "print(\"Silhouette Score For Kmeans\", silhouette_score(X, kmeans_labels))\n",
    "print(\"Silhouette Score For GMMs\",silhouette_score(X, gm_labels))"
   ]
  },
  {
   "cell_type": "markdown",
   "metadata": {},
   "source": [
    "## 5 Real Clusters"
   ]
  },
  {
   "cell_type": "code",
   "execution_count": 51,
   "metadata": {},
   "outputs": [
    {
     "name": "stdout",
     "output_type": "stream",
     "text": [
      "Silhouette Score For Kmeans 0.5478690346485553\n",
      "Silhouette Score For GMMs 0.545760378702133\n"
     ]
    }
   ],
   "source": [
    "from sklearn.datasets import make_blobs\n",
    "X, y = make_blobs(n_samples=1000, centers=5, n_features=2, random_state=0)\n",
    "\n",
    "from sklearn.mixture import GaussianMixture\n",
    "gm = GaussianMixture(n_components=5, random_state=0)\n",
    "gm_labels = gm.fit_predict(X)\n",
    "\n",
    "kmeans = KMeans(n_clusters=5, random_state=0)  \n",
    "kmeans_labels = kmeans.fit_predict(X)\n",
    "\n",
    "print(\"Silhouette Score For Kmeans\", silhouette_score(X, kmeans_labels))\n",
    "print(\"Silhouette Score For GMMs\",silhouette_score(X, gm_labels))"
   ]
  },
  {
   "cell_type": "markdown",
   "metadata": {},
   "source": [
    "## 8 Real Clusters"
   ]
  },
  {
   "cell_type": "code",
   "execution_count": 48,
   "metadata": {},
   "outputs": [
    {
     "name": "stdout",
     "output_type": "stream",
     "text": [
      "Silhouette Score For Kmeans 0.6406393309161013\n",
      "Silhouette Score For GMMs 0.3293258193755403\n"
     ]
    }
   ],
   "source": [
    "from sklearn.datasets import make_blobs\n",
    "X, y = make_blobs(n_samples=1000, centers=8, n_features=2, random_state=0)\n",
    "\n",
    "from sklearn.mixture import GaussianMixture\n",
    "gm = GaussianMixture(n_components=8, random_state=0)\n",
    "gm_labels = gm.fit_predict(X)\n",
    "\n",
    "kmeans = KMeans(n_clusters=8, random_state=0)  \n",
    "kmeans_labels = kmeans.fit_predict(X)\n",
    "\n",
    "print(\"Silhouette Score For Kmeans\", silhouette_score(X, kmeans_labels))\n",
    "print(\"Silhouette Score For GMMs\",silhouette_score(X, gm_labels))"
   ]
  }
 ],
 "metadata": {
  "kernelspec": {
   "display_name": "base",
   "language": "python",
   "name": "python3"
  },
  "language_info": {
   "codemirror_mode": {
    "name": "ipython",
    "version": 3
   },
   "file_extension": ".py",
   "mimetype": "text/x-python",
   "name": "python",
   "nbconvert_exporter": "python",
   "pygments_lexer": "ipython3",
   "version": "3.9.13"
  }
 },
 "nbformat": 4,
 "nbformat_minor": 2
}
